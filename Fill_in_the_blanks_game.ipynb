{
  "nbformat": 4,
  "nbformat_minor": 0,
  "metadata": {
    "colab": {
      "provenance": []
    },
    "kernelspec": {
      "name": "python3",
      "display_name": "Python 3"
    },
    "language_info": {
      "name": "python"
    }
  },
  "cells": [
    {
      "cell_type": "code",
      "source": [
        "# Create a story template with blanks\n",
        "story = \"Once upon a time, in a __1__, there lived a __2__ who loved to __3__. One day, they found a __4__ and decided to take it on an adventure.\"\n",
        "\n",
        "# Create a dictionary to store the answers\n",
        "answers = {\n",
        "    \"1\": \"forest\",\n",
        "    \"2\": \"wizard\",\n",
        "    \"3\": \"cast spells\",\n",
        "    \"4\": \"magical potion\"\n",
        "}\n",
        "\n",
        "# Function to play the game\n",
        "def play_game():\n",
        "    print(\"Fill in the blanks to complete the story:\")\n",
        "    for i in range(1, 5):\n",
        "        blank = \"__\" + str(i) + \"__\"\n",
        "        user_input = input(f\"Enter a word for {blank}: \")\n",
        "        if user_input.lower() == answers[str(i)]:\n",
        "            story.replace(blank, user_input)\n",
        "            print(\"Correct!\")\n",
        "        else:\n",
        "            print(\"Incorrect. Try again.\")\n",
        "\n",
        "    print(\"\\nHere's the completed story:\\n\")\n",
        "    completed_story = story\n",
        "    for key, value in answers.items():\n",
        "        completed_story = completed_story.replace(\"__\" + key + \"__\", value)\n",
        "    print(completed_story)\n",
        "\n",
        "# Play the game\n",
        "play_game()\n",
        "\n"
      ],
      "metadata": {
        "colab": {
          "base_uri": "https://localhost:8080/"
        },
        "id": "blK8KfvAMg9p",
        "outputId": "243227ec-dfa2-42cb-dbab-c9de187dc33f"
      },
      "execution_count": 6,
      "outputs": [
        {
          "output_type": "stream",
          "name": "stdout",
          "text": [
            "Fill in the blanks to complete the story:\n",
            "Enter a word for __1__: forest\n",
            "Correct!\n",
            "Enter a word for __2__: wizard\n",
            "Correct!\n",
            "Enter a word for __3__: cast spells\n",
            "Correct!\n",
            "Enter a word for __4__: magical potion\n",
            "Correct!\n",
            "\n",
            "Here's the completed story:\n",
            "\n",
            "Once upon a time, in a forest, there lived a wizard who loved to cast spells. One day, they found a magical potion and decided to take it on an adventure.\n"
          ]
        }
      ]
    }
  ]
}